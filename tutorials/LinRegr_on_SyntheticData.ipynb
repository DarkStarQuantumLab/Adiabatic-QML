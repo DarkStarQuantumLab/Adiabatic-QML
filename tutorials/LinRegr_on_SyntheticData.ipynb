{
 "cells": [
  {
   "cell_type": "markdown",
   "metadata": {},
   "source": [
    "# Adiabatic Linear Regression with Synthetic Data"
   ]
  },
  {
   "cell_type": "markdown",
   "metadata": {},
   "source": [
    "This example shows how to train an adiabatic linear regression with a single features on a synthetically generated dataset."
   ]
  },
  {
   "cell_type": "code",
   "execution_count": 1,
   "metadata": {},
   "outputs": [],
   "source": [
    "import numpy as np\n",
    "import sklearn.datasets as dt\n",
    "\n",
    "from sklearn.linear_model import LinearRegression\n",
    "from sklearn.model_selection import train_test_split\n",
    "import matplotlib.pyplot as plt\n",
    "from sklearn.metrics import r2_score\n",
    "import sys\n",
    "\n",
    "sys.path.append(\"../\")"
   ]
  },
  {
   "cell_type": "code",
   "execution_count": 2,
   "metadata": {},
   "outputs": [],
   "source": [
    "from qml_adiabatic import QALinearRegression"
   ]
  },
  {
   "cell_type": "markdown",
   "metadata": {},
   "source": [
    "## Data Preparation"
   ]
  },
  {
   "cell_type": "markdown",
   "metadata": {},
   "source": [
    "We will use the synthetically generated dataset via Python Sklearn package."
   ]
  },
  {
   "cell_type": "code",
   "execution_count": 3,
   "metadata": {},
   "outputs": [],
   "source": [
    "seed = 20\n",
    "rand_state = 11\n",
    "rand= np.random.RandomState(seed)   \n",
    "x, y = dt.make_regression(n_samples=100, n_features=1, noise=5, n_informative=1, random_state=rand_state)\n",
    "\n",
    "# split on train-test\n",
    "x_points, x_test, y_labels, y_test = train_test_split(x, y, test_size=0.30, random_state=42)"
   ]
  },
  {
   "cell_type": "markdown",
   "metadata": {},
   "source": [
    "## Training and Model Evaluation"
   ]
  },
  {
   "cell_type": "markdown",
   "metadata": {},
   "source": [
    "We initialize and train the model on the generated dataset. There are several **optional** parameters to consider:\n",
    "* precision_vector (numpy.array) \n",
    "* normalize (bool)\n",
    "* scaler (RobustScaler, MaxAbsScaler, StandardScaler)\n",
    "\n",
    "The *precision_vector* parameter controls the distribution of the regression lines. More details are in the white paper [\"Adiabatic quantum linear regression\" by Date, P., Potok, T.](https://doi.org/10.1038/s41598-021-01445-6).\n",
    "\n",
    "The *normalize* controls the normalization/re-scaling of the data set. \n",
    "\n",
    "The *scaler* provides the optinion to control the normalization of data set.   "
   ]
  },
  {
   "cell_type": "code",
   "execution_count": 4,
   "metadata": {},
   "outputs": [],
   "source": [
    "# initialize and train Adiabatic Linear Regression\n",
    "precision_vector = np.array([0, 0.125, 0.25, 0.5, 0.75])    \n",
    "\n",
    "qa_lin_model = QALinearRegression(precision_vector=precision_vector, normalize=True, scaler=\"MaxAbsScaler\")\n",
    "qa_lin_model.train(x_points, y_labels)\n",
    "y_predicted = qa_lin_model.predict(x_points)"
   ]
  },
  {
   "cell_type": "markdown",
   "metadata": {},
   "source": [
    "For comparison, let's train the Sklearn linear regression on the same data points."
   ]
  },
  {
   "cell_type": "code",
   "execution_count": 5,
   "metadata": {},
   "outputs": [],
   "source": [
    "model = LinearRegression()\n",
    "trained_model = model.fit(x_points, y_labels)\n",
    "y_predict_classical = trained_model.predict(x_points)"
   ]
  },
  {
   "cell_type": "code",
   "execution_count": 6,
   "metadata": {},
   "outputs": [
    {
     "name": "stdout",
     "output_type": "stream",
     "text": [
      "Adiabatic Linear Regression R^2 score on training data: 0.9756736682844375\n",
      "Sklearn Linear Regression R^2 score on training data: 0.9855625769178462\n"
     ]
    }
   ],
   "source": [
    "print(\"Adiabatic Linear Regression R^2 score on training data: {}\".format(qa_lin_model.r_score(y_labels, y_predicted)))\n",
    "print(\"Sklearn Linear Regression R^2 score on training data: {}\".format(r2_score(y_labels, y_predict_classical)))"
   ]
  },
  {
   "cell_type": "code",
   "execution_count": 7,
   "metadata": {},
   "outputs": [
    {
     "data": {
      "image/png": "[encoded data removed]",
      "text/plain": [
       "<Figure size 432x288 with 1 Axes>"
      ]
     },
     "metadata": {
      "needs_background": "light"
     },
     "output_type": "display_data"
    }
   ],
   "source": [
    "# plots\n",
    "plt.scatter(x_points, y_labels, color=\"purple\")\n",
    "plt.plot(x_points, y_predict_classical, color='pink', linewidth=2, label='Classical')\n",
    "plt.plot(x_points, y_predicted, color='green', linewidth=2, label='Quantum')\n",
    "plt.legend(loc='upper left')\n",
    "plt.title(\"Adiabatic vs Classical Linear Regression on Artificial Data\")\n",
    "plt.show()"
   ]
  },
  {
   "cell_type": "markdown",
   "metadata": {},
   "source": [
    "Let's evaluate both models on the test points."
   ]
  },
  {
   "cell_type": "code",
   "execution_count": 8,
   "metadata": {},
   "outputs": [
    {
     "name": "stdout",
     "output_type": "stream",
     "text": [
      "Classical Prediction [ -10.12510532   35.6735365    90.91996152  -44.26957727  -25.75308887\n",
      "  -20.73749564   57.654055     21.28295154   42.73698375  -59.47382189\n",
      "   10.60454849 -139.88027881   37.25587965  -56.44171628   -8.22746615\n",
      "  -15.7855759    56.23031561  -38.19510736  -56.64975293   30.3327729\n",
      "  112.26705223  -46.04746828   27.19458314   44.2234885     5.38709868\n",
      "  -10.52781552  -11.50285609  -65.39069279  -30.87677622    3.06344664]\n",
      "Quantum prediction [[ -6.04797792]\n",
      " [ 23.621205  ]\n",
      " [ 59.4108316 ]\n",
      " [-28.16738024]\n",
      " [-16.17206642]\n",
      " [-12.92287502]\n",
      " [ 37.86057975]\n",
      " [ 14.29872554]\n",
      " [ 28.19703302]\n",
      " [-38.01696304]\n",
      " [  7.38106421]\n",
      " [-90.1057103 ]\n",
      " [ 24.64627532]\n",
      " [-36.05271056]\n",
      " [ -4.81865318]\n",
      " [ -9.71493245]\n",
      " [ 36.9382558 ]\n",
      " [-24.23222951]\n",
      " [-36.18748043]\n",
      " [ 20.16136239]\n",
      " [ 73.23986045]\n",
      " [-29.31912998]\n",
      " [ 18.12838669]\n",
      " [ 29.1600175 ]\n",
      " [  4.0011065 ]\n",
      " [ -6.30886083]\n",
      " [ -6.94050962]\n",
      " [-41.85001831]\n",
      " [-19.49128312]\n",
      " [  2.49580296]]\n"
     ]
    }
   ],
   "source": [
    "# sklearn\n",
    "y_predict_classical = trained_model.predict(x_test)\n",
    "\n",
    "# adiabatic\n",
    "y_predicted_quantum = qa_lin_model.predict(x_test)\n",
    "\n",
    "print(\"Classical Prediction {}\".format(y_predict_classical))\n",
    "print(\"Quantum prediction {}\".format(y_predicted_quantum))"
   ]
  },
  {
   "cell_type": "code",
   "execution_count": 9,
   "metadata": {},
   "outputs": [
    {
     "name": "stdout",
     "output_type": "stream",
     "text": [
      "Adiabatic Regression MAE on test data =  62.2324098629971\n",
      "Adiabatic Regression MSE on test data =  116186.18512068177\n",
      "Adiabatic Regression Root MSE on test data =  340.860946898705\n",
      "Adiabatic Regression R^2 on test data=  0.8556382431264372\n",
      "Sklearn R^2 on test data =  0.9913720355920954\n"
     ]
    }
   ],
   "source": [
    "# print metrics\n",
    "print('Adiabatic Regression MAE on test data = ', qa_lin_model.mae(y_test, y_predicted_quantum))\n",
    "print('Adiabatic Regression MSE on test data = ', qa_lin_model.mse(y_test, y_predicted_quantum))\n",
    "print('Adiabatic Regression Root MSE on test data = ', qa_lin_model.root_mse(y_test, y_predicted_quantum))\n",
    "print('Adiabatic Regression R^2 on test data= ', qa_lin_model.r_score(y_test, y_predicted_quantum))\n",
    "print(\"Sklearn R^2 on test data = \", qa_lin_model.r_score(y_test, y_predict_classical))"
   ]
  },
  {
   "cell_type": "code",
   "execution_count": 10,
   "metadata": {},
   "outputs": [
    {
     "data": {
      "image/png": "[encoded data removed]",
      "text/plain": [
       "<Figure size 432x288 with 1 Axes>"
      ]
     },
     "metadata": {
      "needs_background": "light"
     },
     "output_type": "display_data"
    }
   ],
   "source": [
    "# plots\n",
    "plt.scatter(x_test, y_test, color=\"purple\")\n",
    "plt.plot(x_test, y_predict_classical, color='pink', linewidth=2, label='Classical')\n",
    "plt.plot(x_test, y_predicted_quantum, color='green', linewidth=2, label='Quantum')\n",
    "plt.legend(loc='upper left')\n",
    "plt.title(\"Adiabatic vs Classical Linear Regression on Artificial Data\")\n",
    "plt.show()"
   ]
  },
  {
   "cell_type": "code",
   "execution_count": null,
   "metadata": {},
   "outputs": [],
   "source": []
  }
 ],
 "metadata": {
  "kernelspec": {
   "display_name": "Python 3",
   "language": "python",
   "name": "python3"
  },
  "language_info": {
   "codemirror_mode": {
    "name": "ipython",
    "version": 3
   },
   "file_extension": ".py",
   "mimetype": "text/x-python",
   "name": "python",
   "nbconvert_exporter": "python",
   "pygments_lexer": "ipython3",
   "version": "3.8.3"
  }
 },
 "nbformat": 4,
 "nbformat_minor": 4
}
