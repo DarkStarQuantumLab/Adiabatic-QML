{
 "cells": [
  {
   "cell_type": "markdown",
   "metadata": {},
   "source": [
    "# Heart Axis Prediction"
   ]
  },
  {
   "cell_type": "markdown",
   "metadata": {},
   "source": [
    "This example shows how to train an adiabatic linear regression on a medical records (heart axis) dataset.\n",
    "\n",
    "To train Addiabatic Linear Regression, the database of patients electrocardiogram (ECG) records in form of the .csv files was used. The description of the dataset could be found [here](https://figshare.com/collections/ChapmanECG/4560497/2). From the ECGs data the information about the I and III leads was extracted using Python Scipy package for the signal processing. \n",
    "\n",
    "For the Addiabatic Linear Regression training, we used to filter the database to collect the data about healthy heart functioning as desctibed in [Combined Effects of Age and Comorbidities on Electrocardiographic Parameters in a Large Non-Selected Population](https://doi.org/10.3390/jcm11133737). The data is devided into age groups, and the data in each age group is averaged. The records of patients who 15 year old or younger are excluded since their data are highly unlinear. "
   ]
  },
  {
   "cell_type": "code",
   "execution_count": 1,
   "metadata": {},
   "outputs": [],
   "source": [
    "import numpy as np\n",
    "import sklearn.datasets as dt\n",
    "\n",
    "from sklearn.linear_model import LinearRegression\n",
    "from sklearn.model_selection import train_test_split\n",
    "import matplotlib.pyplot as plt\n",
    "from sklearn.metrics import r2_score\n",
    "import json\n",
    "import pandas as pd\n",
    "import sys\n",
    "\n",
    "sys.path.append(\"../\")"
   ]
  },
  {
   "cell_type": "code",
   "execution_count": 2,
   "metadata": {},
   "outputs": [],
   "source": [
    "from qml_adiabatic import QALinearRegression"
   ]
  },
  {
   "cell_type": "markdown",
   "metadata": {},
   "source": [
    "## Data Preparation"
   ]
  },
  {
   "cell_type": "code",
   "execution_count": 3,
   "metadata": {},
   "outputs": [],
   "source": [
    "def get_qrs_axis(df_heart):\n",
    "    \"\"\"\n",
    "    Calcualtes age and QRS Axis for different age groups. \n",
    "    The result is the mean value for each age group.\n",
    "    \n",
    "    Args: \n",
    "        df_heart: a pandas dataframe with the records.\n",
    "    \n",
    "    Returns:\n",
    "        age: a sorted np.array with the patient ages\n",
    "        qrsaxis: a sorted np.array with the patient measurements on QRS axis.\n",
    "    \"\"\"\n",
    "    \n",
    "    df_normal = pd.DataFrame(columns=[ 'Age', 'QTc', 'QRSDuration', 'QRSAxis'])\n",
    "    for index in df_heart.index:\n",
    "        if df_heart[\"QRSAxis\"][index] in range(-30, 90):\n",
    "            df_normal = df_normal.append(df_heart.iloc[[index]], ignore_index=True)\n",
    "    \n",
    "    df_normal.sort_values(by=[\"Age\"], ascending=True, inplace=True)\n",
    "    df_normal.drop(df_normal[df_normal[\"Age\"] <=14 ].index, inplace=True)\n",
    "\n",
    "    age_bygroup = []\n",
    "    qrsaxis_byage = []\n",
    "\n",
    "    for age_group in range(15, 91, 5):\n",
    "        age_bygroup.append(age_group+2)\n",
    "        mean_qrs = df_normal.loc[(df_normal[\"Age\"] >=age_group) & (df_normal[\"Age\"] <= age_group+4), \"QRSAxis\"].mean()\n",
    "        qrsaxis_byage.append(mean_qrs)\n",
    "\n",
    "    return np.asarray(age_bygroup), np.asarray(qrsaxis_byage)"
   ]
  },
  {
   "cell_type": "code",
   "execution_count": 4,
   "metadata": {},
   "outputs": [],
   "source": [
    "def get_data_for_training():\n",
    "    \"\"\"\n",
    "        Prepares the data for classical ML training or for training as Addiabatic Linear Regression.\n",
    "        The data is grouped and analized by age groups as described in the article\n",
    "        https://pubmed.ncbi.nlm.nih.gov/35807018/ .\n",
    "        Normal QRS_axis is in range of -30 to +90 degrees.\n",
    "        \n",
    "        Args: \n",
    "            None.\n",
    "        Returns:\n",
    "            age: a sorted np.array with the patient ages\n",
    "            qrs_axis: a sorted np.array with the patient measurements on QRS axis.\n",
    "    \"\"\"\n",
    "\n",
    "    with open('../dataset/heart_data.json') as file:\n",
    "        data = json.load(file)\n",
    "\n",
    "    df_end = pd.DataFrame.from_dict(data[\"data\"])\n",
    "    \n",
    "    # convert ECG axis from -30 deg to 180 deg.\n",
    "    for index in df_end.index:\n",
    "        if df_end[\"QRSAxis\"][index] in range(0, 180):\n",
    "            df_end[\"QRSAxis\"][index] = -df_end[\"QRSAxis\"][index]\n",
    "        elif df_end[\"QRSAxis\"][index] in range(180, 360):\n",
    "            df_end[\"QRSAxis\"][index] = abs(360 - df_end[\"QRSAxis\"][index])\n",
    "\n",
    "    age, qrs_axis = get_qrs_axis(df_end)\n",
    "    \n",
    "    return age, qrs_axis\n",
    "    "
   ]
  },
  {
   "cell_type": "markdown",
   "metadata": {},
   "source": [
    "## Training"
   ]
  },
  {
   "cell_type": "code",
   "execution_count": 5,
   "metadata": {},
   "outputs": [
    {
     "name": "stdout",
     "output_type": "stream",
     "text": [
      "Initialize and train Quantum Linear Regression . . .\n"
     ]
    }
   ],
   "source": [
    "age, qrs = get_data_for_training() #get data\n",
    "\n",
    "# split fro train-test\n",
    "age_train, age_test, qrs_train, qrs_test = train_test_split(age, qrs, test_size=0.25, random_state=42) \n",
    "\n",
    "print(\"Initialize and train Quantum Linear Regression . . .\")\n",
    "precision_vector = np.array([0, 0.125, 0.25, 0.5, 0.75])\n",
    "# use the RobustScaler to decrease the influence of the outliers\n",
    "qrs_lin_regression = QALinearRegression(precision_vector=precision_vector, normalize=True, scaler=\"RobustScaler\")\n",
    "qrs_lin_regression.train(age_train.reshape(-1, 1), qrs_train)\n",
    "qrs_predicted = qrs_lin_regression.predict(age_train.reshape(-1,1))"
   ]
  },
  {
   "cell_type": "code",
   "execution_count": 6,
   "metadata": {},
   "outputs": [
    {
     "name": "stdout",
     "output_type": "stream",
     "text": [
      "Initialize and train Classical Linear Regression . . .\n"
     ]
    }
   ],
   "source": [
    "# compare with a classical linear regression in Scikit-learn\n",
    "print(\"Initialize and train Classical Linear Regression . . .\")\n",
    "model= LinearRegression()\n",
    "trained_model = model.fit(age_train.reshape(-1, 1), qrs_train)\n",
    "y_predict = trained_model.predict(age_train.reshape(-1,1))"
   ]
  },
  {
   "cell_type": "code",
   "execution_count": 7,
   "metadata": {},
   "outputs": [
    {
     "name": "stdout",
     "output_type": "stream",
     "text": [
      "R^2 on training dataset for Scikit-Learn: 0.94383692314776\n",
      "R^2 on training dataset for Adiabatic Linear Regression: 0.8898309926203356\n"
     ]
    },
    {
     "data": {
      "image/png": "[encoded data removed]",
      "text/plain": [
       "<Figure size 432x288 with 1 Axes>"
      ]
     },
     "metadata": {
      "needs_background": "light"
     },
     "output_type": "display_data"
    }
   ],
   "source": [
    "print(\"R^2 on training dataset for Scikit-Learn:\", r2_score(qrs_train, y_predict))\n",
    "print(\"R^2 on training dataset for Adiabatic Linear Regression:\", qrs_lin_regression.r_score(qrs_train, qrs_predicted))\n",
    "# plot\n",
    "plt.scatter(age_train, qrs_train)\n",
    "plt.plot(age_train, y_predict, color='pink', linewidth=2, label='Classical')\n",
    "plt.plot(age_train, qrs_predicted, color='green', linewidth=3, label='Quantum')\n",
    "plt.legend(loc='upper left')\n",
    "plt.title(\"QRS Axis (in degrees) Depending on Age\")\n",
    "plt.show()"
   ]
  },
  {
   "cell_type": "markdown",
   "metadata": {},
   "source": [
    "## Prediction and Evaluation"
   ]
  },
  {
   "cell_type": "code",
   "execution_count": 8,
   "metadata": {},
   "outputs": [
    {
     "name": "stdout",
     "output_type": "stream",
     "text": [
      "Evaluate Quantum Linear Regression . . .\n",
      "Age [17 22 42 87]\n",
      "Predicted QRS Axis [[ 3.30721557]\n",
      " [ 4.20481038]\n",
      " [ 7.79518962]\n",
      " [15.87354292]]\n",
      "MAE for the Adiabatic Linear Regression =  7.581347240389968\n",
      "MSE for the Adiabatic Linear Regression =  229.90730391747437\n",
      "Root MSE for the Adiabatic Linear Regression =  15.162694480779937\n",
      "R^2 on test dataset for the Adiabatic Linear Regression =  0.4043312141285681\n",
      "R^2 on test dataset for the Sklearn Linear Regression =  0.14291769531049192\n"
     ]
    }
   ],
   "source": [
    "print(\"Evaluate Quantum Linear Regression . . .\")\n",
    "qrs_predicted_eval = qrs_lin_regression.predict(age_test.reshape(-1,1))\n",
    "qrs_classical = model.predict(age_test.reshape(-1,1))\n",
    "\n",
    "print(\"Age {}\".format(age_test))\n",
    "print(\"Predicted QRS Axis {}\".format(qrs_predicted_eval))\n",
    "\n",
    "# print metrics\n",
    "print('MAE for the Adiabatic Linear Regression = ', qrs_lin_regression.mae(qrs_test, qrs_predicted_eval))\n",
    "print('MSE for the Adiabatic Linear Regression = ', qrs_lin_regression.mse(qrs_test, qrs_predicted_eval))\n",
    "print('Root MSE for the Adiabatic Linear Regression = ', qrs_lin_regression.root_mse(qrs_test, qrs_predicted_eval))\n",
    "print('R^2 on test dataset for the Adiabatic Linear Regression = ', qrs_lin_regression.r_score(qrs_test, qrs_predicted_eval))\n",
    "print('R^2 on test dataset for the Sklearn Linear Regression = ', qrs_lin_regression.r_score(qrs_test, qrs_classical))\n"
   ]
  },
  {
   "cell_type": "code",
   "execution_count": 9,
   "metadata": {},
   "outputs": [
    {
     "data": {
      "image/png": "[encoded data removed]",
      "text/plain": [
       "<Figure size 432x288 with 1 Axes>"
      ]
     },
     "metadata": {
      "needs_background": "light"
     },
     "output_type": "display_data"
    }
   ],
   "source": [
    "plt.scatter(age_test, qrs_test)\n",
    "plt.plot(age_test, qrs_classical, color='pink', linewidth=2, label='Classical')\n",
    "plt.plot(age_test, qrs_predicted_eval, color='green', linewidth=3, label='Quantum')\n",
    "plt.legend(loc='upper left')\n",
    "plt.title(\"QRS Axis (in degrees) Depending on Age\")\n",
    "plt.show()"
   ]
  }
 ],
 "metadata": {
  "kernelspec": {
   "display_name": "Python 3",
   "language": "python",
   "name": "python3"
  },
  "language_info": {
   "codemirror_mode": {
    "name": "ipython",
    "version": 3
   },
   "file_extension": ".py",
   "mimetype": "text/x-python",
   "name": "python",
   "nbconvert_exporter": "python",
   "pygments_lexer": "ipython3",
   "version": "3.8.3"
  }
 },
 "nbformat": 4,
 "nbformat_minor": 4
}
